{
  "cells": [
    {
      "cell_type": "code",
      "execution_count": 1,
      "metadata": {
        "colab": {
          "base_uri": "https://localhost:8080/"
        },
        "id": "FwoSoRt4EPMC",
        "outputId": "68f1f3d0-bf23-4496-bcc2-ac078bb18df2"
      },
      "outputs": [
        {
          "output_type": "stream",
          "name": "stdout",
          "text": [
            "\u001b[?25l     \u001b[90m━━━━━━━━━━━━━━━━━━━━━━━━━━━━━━━━━━━━━━━━\u001b[0m \u001b[32m0.0/108.0 kB\u001b[0m \u001b[31m?\u001b[0m eta \u001b[36m-:--:--\u001b[0m\r\u001b[2K     \u001b[91m━━━━━━━━━━━━━━━━━━━━━━━━━━━━━━━━━━━━━\u001b[0m\u001b[91m╸\u001b[0m\u001b[90m━━\u001b[0m \u001b[32m102.4/108.0 kB\u001b[0m \u001b[31m3.1 MB/s\u001b[0m eta \u001b[36m0:00:01\u001b[0m\r\u001b[2K     \u001b[90m━━━━━━━━━━━━━━━━━━━━━━━━━━━━━━━━━━━━━━━━\u001b[0m \u001b[32m108.0/108.0 kB\u001b[0m \u001b[31m2.5 MB/s\u001b[0m eta \u001b[36m0:00:00\u001b[0m\n",
            "\u001b[?25h  Preparing metadata (setup.py) ... \u001b[?25l\u001b[?25hdone\n",
            "  Building wheel for torch-scatter (setup.py) ... \u001b[?25l\u001b[?25hdone\n",
            "\u001b[2K     \u001b[90m━━━━━━━━━━━━━━━━━━━━━━━━━━━━━━━━━━━━━━━━\u001b[0m \u001b[32m210.0/210.0 kB\u001b[0m \u001b[31m4.2 MB/s\u001b[0m eta \u001b[36m0:00:00\u001b[0m\n",
            "\u001b[?25h  Preparing metadata (setup.py) ... \u001b[?25l\u001b[?25hdone\n",
            "  Building wheel for torch-sparse (setup.py) ... \u001b[?25l\u001b[?25hdone\n",
            "\u001b[2K     \u001b[90m━━━━━━━━━━━━━━━━━━━━━━━━━━━━━━━━━━━━━━━━\u001b[0m \u001b[32m1.0/1.0 MB\u001b[0m \u001b[31m12.8 MB/s\u001b[0m eta \u001b[36m0:00:00\u001b[0m\n",
            "\u001b[?25h"
          ]
        }
      ],
      "source": [
        "# Installing the libraries\n",
        "\n",
        "!pip install -q torch-scatter -f https://pytorch-geometric.com/whl/torch-1.9.0+cu102.html\n",
        "!pip install -q torch-sparse -f https://pytorch-geometric.com/whl/torch-1.9.0+cu102.html\n",
        "!pip install -q torch-geometric"
      ]
    },
    {
      "cell_type": "code",
      "execution_count": 2,
      "metadata": {
        "id": "gQSoi8sNEXiu",
        "colab": {
          "base_uri": "https://localhost:8080/"
        },
        "outputId": "4306cb8e-02a0-4d11-83ec-a2a76d9d0d69"
      },
      "outputs": [
        {
          "output_type": "stream",
          "name": "stderr",
          "text": [
            "Downloading https://github.com/kimiyoung/planetoid/raw/master/data/ind.cora.x\n",
            "Downloading https://github.com/kimiyoung/planetoid/raw/master/data/ind.cora.tx\n",
            "Downloading https://github.com/kimiyoung/planetoid/raw/master/data/ind.cora.allx\n",
            "Downloading https://github.com/kimiyoung/planetoid/raw/master/data/ind.cora.y\n",
            "Downloading https://github.com/kimiyoung/planetoid/raw/master/data/ind.cora.ty\n",
            "Downloading https://github.com/kimiyoung/planetoid/raw/master/data/ind.cora.ally\n",
            "Downloading https://github.com/kimiyoung/planetoid/raw/master/data/ind.cora.graph\n",
            "Downloading https://github.com/kimiyoung/planetoid/raw/master/data/ind.cora.test.index\n",
            "Processing...\n"
          ]
        },
        {
          "output_type": "stream",
          "name": "stdout",
          "text": [
            "\n",
            "Datasets: Cora():\n",
            "------------------------------------\n",
            "Number of graphs: 1\n",
            "Number of features: 1433\n",
            "number of classes: 7\n",
            "\n",
            "Data(x=[2708, 1433], edge_index=[2, 10556], y=[2708], train_mask=[2708], val_mask=[2708], test_mask=[2708])\n",
            "----------------------------------\n",
            "number of nodes: 2708\n",
            "number of edges: 10556\n",
            "Average node degree: 3.90\n",
            "Number of training nodes: 140\n",
            "Training node label rate: 0.05\n",
            "Has isolated nodes: False\n",
            "Has self-loops: False\n",
            "Is undirected: True\n"
          ]
        },
        {
          "output_type": "stream",
          "name": "stderr",
          "text": [
            "Done!\n"
          ]
        }
      ],
      "source": [
        "from torch_geometric.datasets import Planetoid, WikiCS\n",
        "from torch_geometric.transforms import NormalizeFeatures\n",
        "\n",
        "dataset = Planetoid(root='data/Planetoid', name='Cora', transform=NormalizeFeatures())\n",
        "\n",
        "#dataset = WikiCS(root='data/')\n",
        "\n",
        "print()\n",
        "print(f'Datasets: {dataset}:')\n",
        "print('------------------------------------')\n",
        "print(f'Number of graphs: {len(dataset)}')\n",
        "print(f'Number of features: {dataset.num_features}')\n",
        "print(f'number of classes: {dataset.num_classes}')\n",
        "\n",
        "data=dataset[0] #Get the first graph obj\n",
        "\n",
        "print()\n",
        "print(data)\n",
        "print('----------------------------------')\n",
        "\n",
        "#Statistics abt graph\n",
        "print(f'number of nodes: {data.num_nodes}')\n",
        "print(f'number of edges: {data.num_edges}')\n",
        "print(f'Average node degree: {data.num_edges/data.num_nodes:.2f}')\n",
        "print(f'Number of training nodes: {data.train_mask.sum()}')\n",
        "print(f'Training node label rate: {int(data.train_mask.sum()) / data.num_nodes:.2f}')\n",
        "print(f'Has isolated nodes: {data.has_isolated_nodes()}')\n",
        "print(f'Has self-loops: {data.has_self_loops()}')\n",
        "print(f'Is undirected: {data.is_undirected()}')"
      ]
    },
    {
      "cell_type": "code",
      "source": [
        "# Importing libraries\n",
        "\n",
        "import math\n",
        "import random\n",
        "import numpy as np\n",
        "import torch\n",
        "\n",
        "unseen_num = 1\n",
        "k = 10 # set k closest embeddings"
      ],
      "metadata": {
        "id": "U9GsbHWDYO3m"
      },
      "execution_count": 3,
      "outputs": []
    },
    {
      "cell_type": "code",
      "source": [
        "# Differentiate seen and unseen labels\n",
        "\n",
        "original_num_classes = torch.max(data.y) + 1\n",
        "\n",
        "all_labels = list(range(original_num_classes))\n",
        "print(all_labels)\n",
        "\n",
        "seen_labels = list(range(original_num_classes - unseen_num))\n",
        "print(seen_labels)\n",
        "\n",
        "unseen_labels = list(set(np.unique(data.y)).difference(set(seen_labels)))\n",
        "unseen_labels"
      ],
      "metadata": {
        "colab": {
          "base_uri": "https://localhost:8080/"
        },
        "id": "LZdlrAzFYhDI",
        "outputId": "00543b14-5e80-4586-b670-e28451dd6a53"
      },
      "execution_count": 4,
      "outputs": [
        {
          "output_type": "stream",
          "name": "stdout",
          "text": [
            "[0, 1, 2, 3, 4, 5, 6]\n",
            "[0, 1, 2, 3, 4, 5]\n"
          ]
        },
        {
          "output_type": "execute_result",
          "data": {
            "text/plain": [
              "[6]"
            ]
          },
          "metadata": {},
          "execution_count": 4
        }
      ]
    },
    {
      "cell_type": "code",
      "source": [
        "# Setting train, validation and test node percentage\n",
        "\n",
        "train_percentage = 0.70\n",
        "validation_percentage = 0.20\n",
        "test_percentage = 0.10"
      ],
      "metadata": {
        "id": "zYs9spPqY-Zg"
      },
      "execution_count": 5,
      "outputs": []
    },
    {
      "cell_type": "code",
      "source": [
        "# Seperate seen and unseen nodes in different lists\n",
        "\n",
        "seen_nodes = []\n",
        "unseen_nodes = []\n",
        "\n",
        "for i in range(data.num_nodes):\n",
        "  if data.y[i] in seen_labels:\n",
        "    seen_nodes.append(i)\n",
        "  else:\n",
        "    unseen_nodes.append(i)"
      ],
      "metadata": {
        "id": "Oic-Q-NcZPor"
      },
      "execution_count": 6,
      "outputs": []
    },
    {
      "cell_type": "code",
      "source": [
        "# Total number of training, validation and testing nodes\n",
        "\n",
        "num_train_nodes = int(len(seen_nodes) * train_percentage)\n",
        "num_validation_nodes = int(len(seen_nodes) * validation_percentage)\n",
        "num_test_nodes = int(len(seen_nodes) * test_percentage)\n",
        "\n",
        "print(num_train_nodes)\n",
        "print(num_validation_nodes)\n",
        "print(num_test_nodes)"
      ],
      "metadata": {
        "colab": {
          "base_uri": "https://localhost:8080/"
        },
        "id": "ziWlbbAIZaik",
        "outputId": "e5461173-14e3-4eca-a0cb-4d56852c10b2"
      },
      "execution_count": 7,
      "outputs": [
        {
          "output_type": "stream",
          "name": "stdout",
          "text": [
            "1769\n",
            "505\n",
            "252\n"
          ]
        }
      ]
    },
    {
      "cell_type": "code",
      "source": [
        "# Setting up the nodes ids\n",
        "\n",
        "training_nodes_idx = random.sample(seen_nodes, num_train_nodes)\n",
        "remaining_idx = list(set(seen_nodes).difference(set(training_nodes_idx)))\n",
        "validation_nodes_idx = random.sample(remaining_idx, num_validation_nodes)\n",
        "add_in_test = list(set(remaining_idx).difference(set(validation_nodes_idx)))\n",
        "testing_nodes_idx = unseen_nodes + add_in_test"
      ],
      "metadata": {
        "id": "fFMPxvGDZ7Xw"
      },
      "execution_count": 8,
      "outputs": []
    },
    {
      "cell_type": "code",
      "source": [
        "# Marking the ground-truth labels as -1\n",
        "\n",
        "import copy\n",
        "\n",
        "ground_truth = copy.copy(np.array(data.y))\n",
        "\n",
        "for i in range(len(ground_truth)):\n",
        "    if ground_truth[i] in unseen_labels:\n",
        "        ground_truth[i] = -1"
      ],
      "metadata": {
        "id": "NzXtws1laA4X"
      },
      "execution_count": 9,
      "outputs": []
    },
    {
      "cell_type": "code",
      "source": [
        "# Setting up the train, val and test mask\n",
        "\n",
        "tr_mask = []\n",
        "val_mask = []\n",
        "te_mask = []\n",
        "\n",
        "for i in range(data.num_nodes):\n",
        "    if i in training_nodes_idx:\n",
        "        tr_mask.append(True)\n",
        "    else:\n",
        "        tr_mask.append(False)\n",
        "\n",
        "    if i in validation_nodes_idx:\n",
        "        val_mask.append(True)\n",
        "    else:\n",
        "        val_mask.append(False)\n",
        "\n",
        "    if i in testing_nodes_idx:\n",
        "        te_mask.append(True)\n",
        "    else:\n",
        "        te_mask.append(False)"
      ],
      "metadata": {
        "id": "hh870JfHaKjb"
      },
      "execution_count": 10,
      "outputs": []
    },
    {
      "cell_type": "code",
      "source": [
        "# Setting up the dataset\n",
        "\n",
        "from torch_geometric.data import Data\n",
        "import torch\n",
        "\n",
        "dataset_cora = Data(\n",
        "    x = data.x,\n",
        "    edge_index = data.edge_index,\n",
        "    y = data.y,\n",
        "    y_n = torch.tensor(ground_truth),\n",
        "    train_mask = tr_mask,\n",
        "    validation_mask = val_mask,\n",
        "    test_mask = te_mask,\n",
        "    num_classes = len(seen_labels)\n",
        ")"
      ],
      "metadata": {
        "id": "HlGhaMg2aTGT"
      },
      "execution_count": 11,
      "outputs": []
    },
    {
      "cell_type": "code",
      "source": [
        "dataset_cora"
      ],
      "metadata": {
        "colab": {
          "base_uri": "https://localhost:8080/"
        },
        "id": "G9ZPO2txac0d",
        "outputId": "b5f021cd-f473-4f2b-9d97-db5e00c9754d"
      },
      "execution_count": 12,
      "outputs": [
        {
          "output_type": "execute_result",
          "data": {
            "text/plain": [
              "Data(x=[2708, 1433], edge_index=[2, 10556], y=[2708], y_n=[2708], train_mask=[2708], validation_mask=[2708], test_mask=[2708], num_classes=6)"
            ]
          },
          "metadata": {},
          "execution_count": 12
        }
      ]
    },
    {
      "cell_type": "code",
      "source": [
        "# GCN class\n",
        "\n",
        "from torch_geometric.nn import GCNConv\n",
        "import torch.nn.functional as F\n",
        "\n",
        "class GCN(torch.nn.Module):\n",
        "  def __init__(self, hidden_channels):\n",
        "    super().__init__()\n",
        "    self.conv1 = GCNConv(dataset_cora.num_features, hidden_channels)\n",
        "    self.conv2 = GCNConv(hidden_channels, dataset_cora.num_classes)\n",
        "\n",
        "  def forward(self, x, edge_index):\n",
        "    x = self.conv1(x, edge_index)\n",
        "    x = x.relu()\n",
        "    x = F.dropout(x, p=0.5, training=self.training)\n",
        "    embeddings = self.conv2(x, edge_index)\n",
        "    out = F.log_softmax(embeddings, dim=1)\n",
        "\n",
        "    return out, embeddings\n",
        "\n",
        "model = GCN(hidden_channels=64)\n",
        "print(model)"
      ],
      "metadata": {
        "colab": {
          "base_uri": "https://localhost:8080/"
        },
        "id": "FyVrPjRhaev1",
        "outputId": "57e23f39-39de-4e76-ad36-71c9e84d2d5c"
      },
      "execution_count": 13,
      "outputs": [
        {
          "output_type": "stream",
          "name": "stdout",
          "text": [
            "GCN(\n",
            "  (conv1): GCNConv(1433, 64)\n",
            "  (conv2): GCNConv(64, 6)\n",
            ")\n"
          ]
        }
      ]
    },
    {
      "cell_type": "code",
      "source": [
        "# Accuracy Function\n",
        "\n",
        "def acc(output, labels):\n",
        "    preds = output.max(1)[1].type_as(labels)\n",
        "    correct = preds.eq(labels).double()\n",
        "    correct = correct.sum()\n",
        "    return correct / len(labels)"
      ],
      "metadata": {
        "id": "E4VcMzn8aosF"
      },
      "execution_count": 14,
      "outputs": []
    },
    {
      "cell_type": "code",
      "source": [
        "# GCN Training\n",
        "\n",
        "model = GCN(hidden_channels=256)\n",
        "optimizer = torch.optim.Adam(model.parameters(), lr=0.01, betas=(0.9, 0.999), eps=1e-08, weight_decay=5e-4)\n",
        "criterion = torch.nn.CrossEntropyLoss()\n",
        "\n",
        "def train(data_set):\n",
        "    model.train()\n",
        "    optimizer.zero_grad()  # Clear gradients\n",
        "    out, train_embeddings = model(data_set.x, data_set.edge_index)  # Perform a single forward pass and get embeddings\n",
        "    loss = criterion(out[data_set.train_mask], data_set.y_n[data_set.train_mask])\n",
        "    acc_train = acc(out[data_set.train_mask], data_set.y_n[data_set.train_mask])\n",
        "    loss.backward()  # Derive gradients\n",
        "    optimizer.step()  # Update parameters based on gradients\n",
        "\n",
        "    loss_val = criterion(out[data_set.validation_mask], data_set.y_n[data_set.validation_mask])\n",
        "    acc_val = acc(out[data_set.validation_mask], data_set.y_n[data_set.validation_mask])\n",
        "\n",
        "    return loss, loss_val, acc_train, acc_val, train_embeddings  # Return loss and embeddings\n",
        "\n",
        "for epoch in range(1, 201):\n",
        "    loss, val_loss, acc_train, acc_val, train_embeddings = train(dataset_cora)\n",
        "    print(f'Epoch: {epoch:03d}, Train-Loss: {loss:.4f}, Train-ACC: {acc_train:.4f}, Val-Loss: {val_loss:.4f}, Val-ACC: {acc_val:.4f}')\n"
      ],
      "metadata": {
        "colab": {
          "base_uri": "https://localhost:8080/"
        },
        "id": "do_oO7Ccas6t",
        "outputId": "3cb5a94b-3daf-4ac0-d543-693fcd1eb4de"
      },
      "execution_count": 15,
      "outputs": [
        {
          "output_type": "stream",
          "name": "stdout",
          "text": [
            "Epoch: 001, Train-Loss: 1.7914, Train-ACC: 0.1690, Val-Loss: 1.7913, Val-ACC: 0.1683\n",
            "Epoch: 002, Train-Loss: 1.7553, Train-ACC: 0.3188, Val-Loss: 1.7536, Val-ACC: 0.3267\n",
            "Epoch: 003, Train-Loss: 1.7160, Train-ACC: 0.3188, Val-Loss: 1.7141, Val-ACC: 0.3267\n",
            "Epoch: 004, Train-Loss: 1.6750, Train-ACC: 0.3188, Val-Loss: 1.6726, Val-ACC: 0.3267\n",
            "Epoch: 005, Train-Loss: 1.6436, Train-ACC: 0.3188, Val-Loss: 1.6436, Val-ACC: 0.3267\n",
            "Epoch: 006, Train-Loss: 1.6168, Train-ACC: 0.3188, Val-Loss: 1.6175, Val-ACC: 0.3267\n",
            "Epoch: 007, Train-Loss: 1.5948, Train-ACC: 0.3188, Val-Loss: 1.5942, Val-ACC: 0.3267\n",
            "Epoch: 008, Train-Loss: 1.5636, Train-ACC: 0.3188, Val-Loss: 1.5640, Val-ACC: 0.3267\n",
            "Epoch: 009, Train-Loss: 1.5284, Train-ACC: 0.3211, Val-Loss: 1.5320, Val-ACC: 0.3307\n",
            "Epoch: 010, Train-Loss: 1.4918, Train-ACC: 0.3369, Val-Loss: 1.5030, Val-ACC: 0.3386\n",
            "Epoch: 011, Train-Loss: 1.4587, Train-ACC: 0.4138, Val-Loss: 1.4700, Val-ACC: 0.4040\n",
            "Epoch: 012, Train-Loss: 1.4265, Train-ACC: 0.4845, Val-Loss: 1.4448, Val-ACC: 0.4851\n",
            "Epoch: 013, Train-Loss: 1.3891, Train-ACC: 0.5325, Val-Loss: 1.4099, Val-ACC: 0.5248\n",
            "Epoch: 014, Train-Loss: 1.3513, Train-ACC: 0.5432, Val-Loss: 1.3770, Val-ACC: 0.5386\n",
            "Epoch: 015, Train-Loss: 1.3110, Train-ACC: 0.5579, Val-Loss: 1.3343, Val-ACC: 0.5406\n",
            "Epoch: 016, Train-Loss: 1.2740, Train-ACC: 0.5421, Val-Loss: 1.3000, Val-ACC: 0.5347\n",
            "Epoch: 017, Train-Loss: 1.2365, Train-ACC: 0.5455, Val-Loss: 1.2677, Val-ACC: 0.5406\n",
            "Epoch: 018, Train-Loss: 1.2040, Train-ACC: 0.5659, Val-Loss: 1.2316, Val-ACC: 0.5485\n",
            "Epoch: 019, Train-Loss: 1.1637, Train-ACC: 0.6083, Val-Loss: 1.2030, Val-ACC: 0.5980\n",
            "Epoch: 020, Train-Loss: 1.1284, Train-ACC: 0.6512, Val-Loss: 1.1734, Val-ACC: 0.6218\n",
            "Epoch: 021, Train-Loss: 1.0954, Train-ACC: 0.6947, Val-Loss: 1.1318, Val-ACC: 0.6673\n",
            "Epoch: 022, Train-Loss: 1.0528, Train-ACC: 0.7547, Val-Loss: 1.0955, Val-ACC: 0.7465\n",
            "Epoch: 023, Train-Loss: 1.0184, Train-ACC: 0.7841, Val-Loss: 1.0622, Val-ACC: 0.7446\n",
            "Epoch: 024, Train-Loss: 0.9812, Train-ACC: 0.7869, Val-Loss: 1.0223, Val-ACC: 0.7584\n",
            "Epoch: 025, Train-Loss: 0.9469, Train-ACC: 0.7891, Val-Loss: 0.9955, Val-ACC: 0.7663\n",
            "Epoch: 026, Train-Loss: 0.9195, Train-ACC: 0.7920, Val-Loss: 0.9751, Val-ACC: 0.7683\n",
            "Epoch: 027, Train-Loss: 0.8891, Train-ACC: 0.7942, Val-Loss: 0.9447, Val-ACC: 0.7703\n",
            "Epoch: 028, Train-Loss: 0.8563, Train-ACC: 0.8067, Val-Loss: 0.9187, Val-ACC: 0.7505\n",
            "Epoch: 029, Train-Loss: 0.8264, Train-ACC: 0.8191, Val-Loss: 0.8860, Val-ACC: 0.7960\n",
            "Epoch: 030, Train-Loss: 0.7985, Train-ACC: 0.8338, Val-Loss: 0.8686, Val-ACC: 0.8178\n",
            "Epoch: 031, Train-Loss: 0.7743, Train-ACC: 0.8508, Val-Loss: 0.8331, Val-ACC: 0.8257\n",
            "Epoch: 032, Train-Loss: 0.7477, Train-ACC: 0.8626, Val-Loss: 0.8149, Val-ACC: 0.8218\n",
            "Epoch: 033, Train-Loss: 0.7296, Train-ACC: 0.8689, Val-Loss: 0.7898, Val-ACC: 0.8317\n",
            "Epoch: 034, Train-Loss: 0.7050, Train-ACC: 0.8649, Val-Loss: 0.7874, Val-ACC: 0.8218\n",
            "Epoch: 035, Train-Loss: 0.6859, Train-ACC: 0.8666, Val-Loss: 0.7693, Val-ACC: 0.8257\n",
            "Epoch: 036, Train-Loss: 0.6617, Train-ACC: 0.8734, Val-Loss: 0.7379, Val-ACC: 0.8337\n",
            "Epoch: 037, Train-Loss: 0.6436, Train-ACC: 0.8762, Val-Loss: 0.7314, Val-ACC: 0.8238\n",
            "Epoch: 038, Train-Loss: 0.6195, Train-ACC: 0.8790, Val-Loss: 0.6999, Val-ACC: 0.8455\n",
            "Epoch: 039, Train-Loss: 0.6049, Train-ACC: 0.8903, Val-Loss: 0.6933, Val-ACC: 0.8475\n",
            "Epoch: 040, Train-Loss: 0.6030, Train-ACC: 0.8802, Val-Loss: 0.6901, Val-ACC: 0.8416\n",
            "Epoch: 041, Train-Loss: 0.5926, Train-ACC: 0.8813, Val-Loss: 0.6835, Val-ACC: 0.8356\n",
            "Epoch: 042, Train-Loss: 0.5721, Train-ACC: 0.8841, Val-Loss: 0.6630, Val-ACC: 0.8535\n",
            "Epoch: 043, Train-Loss: 0.5616, Train-ACC: 0.8926, Val-Loss: 0.6460, Val-ACC: 0.8436\n",
            "Epoch: 044, Train-Loss: 0.5543, Train-ACC: 0.8909, Val-Loss: 0.6498, Val-ACC: 0.8515\n",
            "Epoch: 045, Train-Loss: 0.5410, Train-ACC: 0.8949, Val-Loss: 0.6339, Val-ACC: 0.8475\n",
            "Epoch: 046, Train-Loss: 0.5321, Train-ACC: 0.8903, Val-Loss: 0.6337, Val-ACC: 0.8495\n",
            "Epoch: 047, Train-Loss: 0.5321, Train-ACC: 0.8869, Val-Loss: 0.6160, Val-ACC: 0.8455\n",
            "Epoch: 048, Train-Loss: 0.5150, Train-ACC: 0.8875, Val-Loss: 0.6200, Val-ACC: 0.8515\n",
            "Epoch: 049, Train-Loss: 0.5031, Train-ACC: 0.9028, Val-Loss: 0.6137, Val-ACC: 0.8535\n",
            "Epoch: 050, Train-Loss: 0.4965, Train-ACC: 0.8937, Val-Loss: 0.5949, Val-ACC: 0.8475\n",
            "Epoch: 051, Train-Loss: 0.4895, Train-ACC: 0.8999, Val-Loss: 0.5896, Val-ACC: 0.8574\n",
            "Epoch: 052, Train-Loss: 0.4903, Train-ACC: 0.8949, Val-Loss: 0.5822, Val-ACC: 0.8574\n",
            "Epoch: 053, Train-Loss: 0.4904, Train-ACC: 0.9011, Val-Loss: 0.5854, Val-ACC: 0.8693\n",
            "Epoch: 054, Train-Loss: 0.4822, Train-ACC: 0.8988, Val-Loss: 0.5546, Val-ACC: 0.8634\n",
            "Epoch: 055, Train-Loss: 0.4752, Train-ACC: 0.8988, Val-Loss: 0.5746, Val-ACC: 0.8554\n",
            "Epoch: 056, Train-Loss: 0.4784, Train-ACC: 0.8903, Val-Loss: 0.5623, Val-ACC: 0.8673\n",
            "Epoch: 057, Train-Loss: 0.4641, Train-ACC: 0.9101, Val-Loss: 0.5651, Val-ACC: 0.8614\n",
            "Epoch: 058, Train-Loss: 0.4608, Train-ACC: 0.9033, Val-Loss: 0.5672, Val-ACC: 0.8653\n",
            "Epoch: 059, Train-Loss: 0.4569, Train-ACC: 0.9084, Val-Loss: 0.5577, Val-ACC: 0.8594\n",
            "Epoch: 060, Train-Loss: 0.4447, Train-ACC: 0.9062, Val-Loss: 0.5573, Val-ACC: 0.8495\n",
            "Epoch: 061, Train-Loss: 0.4440, Train-ACC: 0.9067, Val-Loss: 0.5492, Val-ACC: 0.8634\n",
            "Epoch: 062, Train-Loss: 0.4489, Train-ACC: 0.9101, Val-Loss: 0.5562, Val-ACC: 0.8495\n",
            "Epoch: 063, Train-Loss: 0.4374, Train-ACC: 0.9062, Val-Loss: 0.5635, Val-ACC: 0.8535\n",
            "Epoch: 064, Train-Loss: 0.4359, Train-ACC: 0.9073, Val-Loss: 0.5504, Val-ACC: 0.8515\n",
            "Epoch: 065, Train-Loss: 0.4273, Train-ACC: 0.9090, Val-Loss: 0.5332, Val-ACC: 0.8693\n",
            "Epoch: 066, Train-Loss: 0.4346, Train-ACC: 0.9022, Val-Loss: 0.5545, Val-ACC: 0.8653\n",
            "Epoch: 067, Train-Loss: 0.4253, Train-ACC: 0.9135, Val-Loss: 0.5349, Val-ACC: 0.8634\n",
            "Epoch: 068, Train-Loss: 0.4179, Train-ACC: 0.9112, Val-Loss: 0.5352, Val-ACC: 0.8673\n",
            "Epoch: 069, Train-Loss: 0.4211, Train-ACC: 0.9096, Val-Loss: 0.5440, Val-ACC: 0.8673\n",
            "Epoch: 070, Train-Loss: 0.4151, Train-ACC: 0.9146, Val-Loss: 0.5411, Val-ACC: 0.8594\n",
            "Epoch: 071, Train-Loss: 0.4091, Train-ACC: 0.9152, Val-Loss: 0.5361, Val-ACC: 0.8752\n",
            "Epoch: 072, Train-Loss: 0.4106, Train-ACC: 0.9135, Val-Loss: 0.5191, Val-ACC: 0.8614\n",
            "Epoch: 073, Train-Loss: 0.4160, Train-ACC: 0.9112, Val-Loss: 0.5177, Val-ACC: 0.8653\n",
            "Epoch: 074, Train-Loss: 0.4075, Train-ACC: 0.9158, Val-Loss: 0.5224, Val-ACC: 0.8574\n",
            "Epoch: 075, Train-Loss: 0.4059, Train-ACC: 0.9158, Val-Loss: 0.5140, Val-ACC: 0.8713\n",
            "Epoch: 076, Train-Loss: 0.4024, Train-ACC: 0.9101, Val-Loss: 0.5151, Val-ACC: 0.8554\n",
            "Epoch: 077, Train-Loss: 0.4043, Train-ACC: 0.9101, Val-Loss: 0.5314, Val-ACC: 0.8535\n",
            "Epoch: 078, Train-Loss: 0.4032, Train-ACC: 0.9129, Val-Loss: 0.5058, Val-ACC: 0.8634\n",
            "Epoch: 079, Train-Loss: 0.4000, Train-ACC: 0.9079, Val-Loss: 0.4985, Val-ACC: 0.8634\n",
            "Epoch: 080, Train-Loss: 0.3991, Train-ACC: 0.9146, Val-Loss: 0.5138, Val-ACC: 0.8713\n",
            "Epoch: 081, Train-Loss: 0.3919, Train-ACC: 0.9084, Val-Loss: 0.5172, Val-ACC: 0.8594\n",
            "Epoch: 082, Train-Loss: 0.3875, Train-ACC: 0.9209, Val-Loss: 0.5072, Val-ACC: 0.8634\n",
            "Epoch: 083, Train-Loss: 0.3881, Train-ACC: 0.9129, Val-Loss: 0.5068, Val-ACC: 0.8554\n",
            "Epoch: 084, Train-Loss: 0.3832, Train-ACC: 0.9152, Val-Loss: 0.4929, Val-ACC: 0.8812\n",
            "Epoch: 085, Train-Loss: 0.3861, Train-ACC: 0.9124, Val-Loss: 0.5062, Val-ACC: 0.8752\n",
            "Epoch: 086, Train-Loss: 0.3844, Train-ACC: 0.9118, Val-Loss: 0.5035, Val-ACC: 0.8752\n",
            "Epoch: 087, Train-Loss: 0.3816, Train-ACC: 0.9220, Val-Loss: 0.4951, Val-ACC: 0.8535\n",
            "Epoch: 088, Train-Loss: 0.3822, Train-ACC: 0.9169, Val-Loss: 0.5031, Val-ACC: 0.8614\n",
            "Epoch: 089, Train-Loss: 0.3815, Train-ACC: 0.9163, Val-Loss: 0.4855, Val-ACC: 0.8713\n",
            "Epoch: 090, Train-Loss: 0.3794, Train-ACC: 0.9203, Val-Loss: 0.5052, Val-ACC: 0.8713\n",
            "Epoch: 091, Train-Loss: 0.3801, Train-ACC: 0.9197, Val-Loss: 0.4923, Val-ACC: 0.8554\n",
            "Epoch: 092, Train-Loss: 0.3714, Train-ACC: 0.9203, Val-Loss: 0.4931, Val-ACC: 0.8594\n",
            "Epoch: 093, Train-Loss: 0.3729, Train-ACC: 0.9158, Val-Loss: 0.4930, Val-ACC: 0.8673\n",
            "Epoch: 094, Train-Loss: 0.3765, Train-ACC: 0.9203, Val-Loss: 0.4815, Val-ACC: 0.8752\n",
            "Epoch: 095, Train-Loss: 0.3745, Train-ACC: 0.9169, Val-Loss: 0.4982, Val-ACC: 0.8752\n",
            "Epoch: 096, Train-Loss: 0.3739, Train-ACC: 0.9237, Val-Loss: 0.4964, Val-ACC: 0.8713\n",
            "Epoch: 097, Train-Loss: 0.3723, Train-ACC: 0.9146, Val-Loss: 0.5061, Val-ACC: 0.8554\n",
            "Epoch: 098, Train-Loss: 0.3615, Train-ACC: 0.9209, Val-Loss: 0.4933, Val-ACC: 0.8693\n",
            "Epoch: 099, Train-Loss: 0.3671, Train-ACC: 0.9203, Val-Loss: 0.4720, Val-ACC: 0.8792\n",
            "Epoch: 100, Train-Loss: 0.3622, Train-ACC: 0.9203, Val-Loss: 0.4793, Val-ACC: 0.8812\n",
            "Epoch: 101, Train-Loss: 0.3645, Train-ACC: 0.9197, Val-Loss: 0.4875, Val-ACC: 0.8614\n",
            "Epoch: 102, Train-Loss: 0.3638, Train-ACC: 0.9214, Val-Loss: 0.4960, Val-ACC: 0.8673\n",
            "Epoch: 103, Train-Loss: 0.3591, Train-ACC: 0.9254, Val-Loss: 0.4857, Val-ACC: 0.8832\n",
            "Epoch: 104, Train-Loss: 0.3651, Train-ACC: 0.9169, Val-Loss: 0.4732, Val-ACC: 0.8634\n",
            "Epoch: 105, Train-Loss: 0.3656, Train-ACC: 0.9197, Val-Loss: 0.4830, Val-ACC: 0.8733\n",
            "Epoch: 106, Train-Loss: 0.3563, Train-ACC: 0.9209, Val-Loss: 0.4827, Val-ACC: 0.8733\n",
            "Epoch: 107, Train-Loss: 0.3589, Train-ACC: 0.9197, Val-Loss: 0.4777, Val-ACC: 0.8554\n",
            "Epoch: 108, Train-Loss: 0.3577, Train-ACC: 0.9243, Val-Loss: 0.4810, Val-ACC: 0.8752\n",
            "Epoch: 109, Train-Loss: 0.3582, Train-ACC: 0.9192, Val-Loss: 0.4682, Val-ACC: 0.8772\n",
            "Epoch: 110, Train-Loss: 0.3548, Train-ACC: 0.9197, Val-Loss: 0.4784, Val-ACC: 0.8693\n",
            "Epoch: 111, Train-Loss: 0.3560, Train-ACC: 0.9197, Val-Loss: 0.4754, Val-ACC: 0.8733\n",
            "Epoch: 112, Train-Loss: 0.3561, Train-ACC: 0.9209, Val-Loss: 0.4718, Val-ACC: 0.8693\n",
            "Epoch: 113, Train-Loss: 0.3582, Train-ACC: 0.9220, Val-Loss: 0.4696, Val-ACC: 0.8733\n",
            "Epoch: 114, Train-Loss: 0.3521, Train-ACC: 0.9192, Val-Loss: 0.4710, Val-ACC: 0.8693\n",
            "Epoch: 115, Train-Loss: 0.3483, Train-ACC: 0.9265, Val-Loss: 0.4819, Val-ACC: 0.8713\n",
            "Epoch: 116, Train-Loss: 0.3509, Train-ACC: 0.9203, Val-Loss: 0.4742, Val-ACC: 0.8832\n",
            "Epoch: 117, Train-Loss: 0.3500, Train-ACC: 0.9265, Val-Loss: 0.4766, Val-ACC: 0.8634\n",
            "Epoch: 118, Train-Loss: 0.3493, Train-ACC: 0.9231, Val-Loss: 0.4683, Val-ACC: 0.8693\n",
            "Epoch: 119, Train-Loss: 0.3552, Train-ACC: 0.9231, Val-Loss: 0.4687, Val-ACC: 0.8911\n",
            "Epoch: 120, Train-Loss: 0.3469, Train-ACC: 0.9265, Val-Loss: 0.4799, Val-ACC: 0.8713\n",
            "Epoch: 121, Train-Loss: 0.3477, Train-ACC: 0.9226, Val-Loss: 0.4804, Val-ACC: 0.8653\n",
            "Epoch: 122, Train-Loss: 0.3478, Train-ACC: 0.9214, Val-Loss: 0.4763, Val-ACC: 0.8713\n",
            "Epoch: 123, Train-Loss: 0.3494, Train-ACC: 0.9169, Val-Loss: 0.4579, Val-ACC: 0.8772\n",
            "Epoch: 124, Train-Loss: 0.3476, Train-ACC: 0.9175, Val-Loss: 0.4745, Val-ACC: 0.8733\n",
            "Epoch: 125, Train-Loss: 0.3437, Train-ACC: 0.9265, Val-Loss: 0.4566, Val-ACC: 0.8911\n",
            "Epoch: 126, Train-Loss: 0.3478, Train-ACC: 0.9243, Val-Loss: 0.4771, Val-ACC: 0.8713\n",
            "Epoch: 127, Train-Loss: 0.3420, Train-ACC: 0.9248, Val-Loss: 0.4722, Val-ACC: 0.8574\n",
            "Epoch: 128, Train-Loss: 0.3380, Train-ACC: 0.9243, Val-Loss: 0.4523, Val-ACC: 0.8713\n",
            "Epoch: 129, Train-Loss: 0.3431, Train-ACC: 0.9243, Val-Loss: 0.4653, Val-ACC: 0.8693\n",
            "Epoch: 130, Train-Loss: 0.3370, Train-ACC: 0.9186, Val-Loss: 0.4654, Val-ACC: 0.8752\n",
            "Epoch: 131, Train-Loss: 0.3417, Train-ACC: 0.9299, Val-Loss: 0.4697, Val-ACC: 0.8792\n",
            "Epoch: 132, Train-Loss: 0.3376, Train-ACC: 0.9248, Val-Loss: 0.4652, Val-ACC: 0.8713\n",
            "Epoch: 133, Train-Loss: 0.3380, Train-ACC: 0.9282, Val-Loss: 0.4508, Val-ACC: 0.8733\n",
            "Epoch: 134, Train-Loss: 0.3403, Train-ACC: 0.9271, Val-Loss: 0.4653, Val-ACC: 0.8594\n",
            "Epoch: 135, Train-Loss: 0.3342, Train-ACC: 0.9378, Val-Loss: 0.4594, Val-ACC: 0.8812\n",
            "Epoch: 136, Train-Loss: 0.3389, Train-ACC: 0.9276, Val-Loss: 0.4697, Val-ACC: 0.8733\n",
            "Epoch: 137, Train-Loss: 0.3345, Train-ACC: 0.9254, Val-Loss: 0.4584, Val-ACC: 0.8713\n",
            "Epoch: 138, Train-Loss: 0.3391, Train-ACC: 0.9243, Val-Loss: 0.4631, Val-ACC: 0.8792\n",
            "Epoch: 139, Train-Loss: 0.3372, Train-ACC: 0.9254, Val-Loss: 0.4625, Val-ACC: 0.8792\n",
            "Epoch: 140, Train-Loss: 0.3322, Train-ACC: 0.9265, Val-Loss: 0.4552, Val-ACC: 0.8812\n",
            "Epoch: 141, Train-Loss: 0.3323, Train-ACC: 0.9299, Val-Loss: 0.4654, Val-ACC: 0.8733\n",
            "Epoch: 142, Train-Loss: 0.3349, Train-ACC: 0.9220, Val-Loss: 0.4619, Val-ACC: 0.8851\n",
            "Epoch: 143, Train-Loss: 0.3348, Train-ACC: 0.9265, Val-Loss: 0.4666, Val-ACC: 0.8832\n",
            "Epoch: 144, Train-Loss: 0.3313, Train-ACC: 0.9197, Val-Loss: 0.4566, Val-ACC: 0.8733\n",
            "Epoch: 145, Train-Loss: 0.3255, Train-ACC: 0.9288, Val-Loss: 0.4661, Val-ACC: 0.8693\n",
            "Epoch: 146, Train-Loss: 0.3373, Train-ACC: 0.9248, Val-Loss: 0.4648, Val-ACC: 0.8792\n",
            "Epoch: 147, Train-Loss: 0.3317, Train-ACC: 0.9259, Val-Loss: 0.4593, Val-ACC: 0.8772\n",
            "Epoch: 148, Train-Loss: 0.3261, Train-ACC: 0.9259, Val-Loss: 0.4673, Val-ACC: 0.8792\n",
            "Epoch: 149, Train-Loss: 0.3275, Train-ACC: 0.9276, Val-Loss: 0.4640, Val-ACC: 0.8772\n",
            "Epoch: 150, Train-Loss: 0.3296, Train-ACC: 0.9243, Val-Loss: 0.4663, Val-ACC: 0.8792\n",
            "Epoch: 151, Train-Loss: 0.3299, Train-ACC: 0.9265, Val-Loss: 0.4702, Val-ACC: 0.8673\n",
            "Epoch: 152, Train-Loss: 0.3295, Train-ACC: 0.9288, Val-Loss: 0.4615, Val-ACC: 0.8851\n",
            "Epoch: 153, Train-Loss: 0.3319, Train-ACC: 0.9226, Val-Loss: 0.4592, Val-ACC: 0.8752\n",
            "Epoch: 154, Train-Loss: 0.3277, Train-ACC: 0.9310, Val-Loss: 0.4585, Val-ACC: 0.8911\n",
            "Epoch: 155, Train-Loss: 0.3300, Train-ACC: 0.9265, Val-Loss: 0.4706, Val-ACC: 0.8693\n",
            "Epoch: 156, Train-Loss: 0.3287, Train-ACC: 0.9248, Val-Loss: 0.4599, Val-ACC: 0.8693\n",
            "Epoch: 157, Train-Loss: 0.3319, Train-ACC: 0.9259, Val-Loss: 0.4630, Val-ACC: 0.8733\n",
            "Epoch: 158, Train-Loss: 0.3239, Train-ACC: 0.9299, Val-Loss: 0.4481, Val-ACC: 0.8792\n",
            "Epoch: 159, Train-Loss: 0.3241, Train-ACC: 0.9293, Val-Loss: 0.4615, Val-ACC: 0.8673\n",
            "Epoch: 160, Train-Loss: 0.3234, Train-ACC: 0.9299, Val-Loss: 0.4566, Val-ACC: 0.8693\n",
            "Epoch: 161, Train-Loss: 0.3279, Train-ACC: 0.9305, Val-Loss: 0.4561, Val-ACC: 0.8851\n",
            "Epoch: 162, Train-Loss: 0.3230, Train-ACC: 0.9293, Val-Loss: 0.4630, Val-ACC: 0.8713\n",
            "Epoch: 163, Train-Loss: 0.3245, Train-ACC: 0.9237, Val-Loss: 0.4505, Val-ACC: 0.8851\n",
            "Epoch: 164, Train-Loss: 0.3245, Train-ACC: 0.9259, Val-Loss: 0.4612, Val-ACC: 0.8673\n",
            "Epoch: 165, Train-Loss: 0.3220, Train-ACC: 0.9288, Val-Loss: 0.4534, Val-ACC: 0.8772\n",
            "Epoch: 166, Train-Loss: 0.3274, Train-ACC: 0.9282, Val-Loss: 0.4573, Val-ACC: 0.8812\n",
            "Epoch: 167, Train-Loss: 0.3184, Train-ACC: 0.9299, Val-Loss: 0.4469, Val-ACC: 0.8812\n",
            "Epoch: 168, Train-Loss: 0.3216, Train-ACC: 0.9282, Val-Loss: 0.4694, Val-ACC: 0.8733\n",
            "Epoch: 169, Train-Loss: 0.3211, Train-ACC: 0.9299, Val-Loss: 0.4643, Val-ACC: 0.8871\n",
            "Epoch: 170, Train-Loss: 0.3270, Train-ACC: 0.9282, Val-Loss: 0.4537, Val-ACC: 0.8792\n",
            "Epoch: 171, Train-Loss: 0.3224, Train-ACC: 0.9316, Val-Loss: 0.4591, Val-ACC: 0.8673\n",
            "Epoch: 172, Train-Loss: 0.3179, Train-ACC: 0.9288, Val-Loss: 0.4545, Val-ACC: 0.8752\n",
            "Epoch: 173, Train-Loss: 0.3272, Train-ACC: 0.9259, Val-Loss: 0.4605, Val-ACC: 0.8733\n",
            "Epoch: 174, Train-Loss: 0.3244, Train-ACC: 0.9293, Val-Loss: 0.4563, Val-ACC: 0.8792\n",
            "Epoch: 175, Train-Loss: 0.3238, Train-ACC: 0.9322, Val-Loss: 0.4443, Val-ACC: 0.8792\n",
            "Epoch: 176, Train-Loss: 0.3218, Train-ACC: 0.9339, Val-Loss: 0.4415, Val-ACC: 0.8772\n",
            "Epoch: 177, Train-Loss: 0.3172, Train-ACC: 0.9333, Val-Loss: 0.4436, Val-ACC: 0.8752\n",
            "Epoch: 178, Train-Loss: 0.3221, Train-ACC: 0.9248, Val-Loss: 0.4525, Val-ACC: 0.8713\n",
            "Epoch: 179, Train-Loss: 0.3194, Train-ACC: 0.9316, Val-Loss: 0.4602, Val-ACC: 0.8733\n",
            "Epoch: 180, Train-Loss: 0.3235, Train-ACC: 0.9288, Val-Loss: 0.4513, Val-ACC: 0.8733\n",
            "Epoch: 181, Train-Loss: 0.3245, Train-ACC: 0.9220, Val-Loss: 0.4541, Val-ACC: 0.8653\n",
            "Epoch: 182, Train-Loss: 0.3187, Train-ACC: 0.9282, Val-Loss: 0.4396, Val-ACC: 0.8673\n",
            "Epoch: 183, Train-Loss: 0.3153, Train-ACC: 0.9333, Val-Loss: 0.4429, Val-ACC: 0.8792\n",
            "Epoch: 184, Train-Loss: 0.3179, Train-ACC: 0.9299, Val-Loss: 0.4535, Val-ACC: 0.8733\n",
            "Epoch: 185, Train-Loss: 0.3158, Train-ACC: 0.9305, Val-Loss: 0.4491, Val-ACC: 0.8693\n",
            "Epoch: 186, Train-Loss: 0.3109, Train-ACC: 0.9310, Val-Loss: 0.4667, Val-ACC: 0.8752\n",
            "Epoch: 187, Train-Loss: 0.3101, Train-ACC: 0.9299, Val-Loss: 0.4451, Val-ACC: 0.8693\n",
            "Epoch: 188, Train-Loss: 0.3197, Train-ACC: 0.9282, Val-Loss: 0.4387, Val-ACC: 0.8812\n",
            "Epoch: 189, Train-Loss: 0.3176, Train-ACC: 0.9327, Val-Loss: 0.4575, Val-ACC: 0.8871\n",
            "Epoch: 190, Train-Loss: 0.3127, Train-ACC: 0.9305, Val-Loss: 0.4494, Val-ACC: 0.8653\n",
            "Epoch: 191, Train-Loss: 0.3213, Train-ACC: 0.9299, Val-Loss: 0.4471, Val-ACC: 0.8832\n",
            "Epoch: 192, Train-Loss: 0.3133, Train-ACC: 0.9333, Val-Loss: 0.4576, Val-ACC: 0.8812\n",
            "Epoch: 193, Train-Loss: 0.3173, Train-ACC: 0.9344, Val-Loss: 0.4608, Val-ACC: 0.8693\n",
            "Epoch: 194, Train-Loss: 0.3164, Train-ACC: 0.9276, Val-Loss: 0.4505, Val-ACC: 0.8713\n",
            "Epoch: 195, Train-Loss: 0.3195, Train-ACC: 0.9316, Val-Loss: 0.4410, Val-ACC: 0.8792\n",
            "Epoch: 196, Train-Loss: 0.3227, Train-ACC: 0.9282, Val-Loss: 0.4595, Val-ACC: 0.8673\n",
            "Epoch: 197, Train-Loss: 0.3110, Train-ACC: 0.9350, Val-Loss: 0.4700, Val-ACC: 0.8851\n",
            "Epoch: 198, Train-Loss: 0.3225, Train-ACC: 0.9282, Val-Loss: 0.4674, Val-ACC: 0.8713\n",
            "Epoch: 199, Train-Loss: 0.3091, Train-ACC: 0.9293, Val-Loss: 0.4513, Val-ACC: 0.8653\n",
            "Epoch: 200, Train-Loss: 0.3159, Train-ACC: 0.9288, Val-Loss: 0.4450, Val-ACC: 0.8634\n"
          ]
        }
      ]
    },
    {
      "cell_type": "code",
      "source": [
        "# Converting to torch tensor\n",
        "\n",
        "training_nodes_idx = torch.tensor(training_nodes_idx)\n",
        "testing_nodes_idx = torch.tensor(testing_nodes_idx)"
      ],
      "metadata": {
        "id": "DHRDwfaoa2L9"
      },
      "execution_count": 16,
      "outputs": []
    },
    {
      "cell_type": "code",
      "source": [
        "# Evaluating on test\n",
        "\n",
        "import torch.nn.functional as F\n",
        "\n",
        "def test():\n",
        "  model.eval()\n",
        "  with torch.no_grad():\n",
        "    out, test_embeddings = model(dataset_cora.x, dataset_cora.edge_index)\n",
        "    acc_test = acc(out[dataset_cora.test_mask], dataset_cora.y_n[dataset_cora.test_mask])\n",
        "\n",
        "  return acc_test, test_embeddings"
      ],
      "metadata": {
        "id": "6Xs7TsKBbALF"
      },
      "execution_count": 17,
      "outputs": []
    },
    {
      "cell_type": "code",
      "source": [
        "test_acc, test_emb = test()\n",
        "print(f'Test Accuracy: {test_acc:.4f}')\n",
        "print(test_emb.shape)"
      ],
      "metadata": {
        "colab": {
          "base_uri": "https://localhost:8080/"
        },
        "id": "BCVzXVqCbG-q",
        "outputId": "ba9d2865-0bbc-4cbc-8551-02eabdf2abf4"
      },
      "execution_count": 18,
      "outputs": [
        {
          "output_type": "stream",
          "name": "stdout",
          "text": [
            "Test Accuracy: 0.5253\n",
            "torch.Size([2708, 6])\n"
          ]
        }
      ]
    },
    {
      "cell_type": "code",
      "source": [
        "# Test indices for sanity check\n",
        "\n",
        "test_indices = np.array(torch.where(torch.tensor(dataset_cora.test_mask))[0])"
      ],
      "metadata": {
        "id": "oO-QsnC_bIpL"
      },
      "execution_count": 19,
      "outputs": []
    },
    {
      "cell_type": "code",
      "source": [
        "# Combining each class embedding in dict\n",
        "\n",
        "class_embedding = {key: [] for key in seen_labels}\n",
        "print(class_embedding)\n",
        "\n",
        "for i in range(len(training_nodes_idx)):\n",
        "    class_embedding[dataset_cora.y[training_nodes_idx][i].item()].append(train_embeddings[training_nodes_idx[i]].tolist())"
      ],
      "metadata": {
        "colab": {
          "base_uri": "https://localhost:8080/"
        },
        "id": "l6wv7vBUbVMu",
        "outputId": "aa54b98c-d9a8-4589-ec68-0b6f6863ca05"
      },
      "execution_count": 20,
      "outputs": [
        {
          "output_type": "stream",
          "name": "stdout",
          "text": [
            "{0: [], 1: [], 2: [], 3: [], 4: [], 5: []}\n"
          ]
        }
      ]
    },
    {
      "cell_type": "code",
      "source": [
        "# Converting to torch tensor\n",
        "\n",
        "for i in range(len(class_embedding)):\n",
        "    class_embedding[i] = torch.tensor(class_embedding[i])"
      ],
      "metadata": {
        "id": "VPIhZ-ilbfA8"
      },
      "execution_count": 21,
      "outputs": []
    },
    {
      "cell_type": "code",
      "source": [
        "# Putting the embeddings in new list\n",
        "\n",
        "tr_embedding = []\n",
        "\n",
        "for i in range(len(class_embedding)):\n",
        "    tr_embedding.append(torch.tensor(class_embedding[i]))"
      ],
      "metadata": {
        "colab": {
          "base_uri": "https://localhost:8080/"
        },
        "id": "VsfaQQsObldN",
        "outputId": "19ced8af-7801-460d-dfaa-0de1a935fdd3"
      },
      "execution_count": 22,
      "outputs": [
        {
          "output_type": "stream",
          "name": "stderr",
          "text": [
            "<ipython-input-22-c2940137d002>:6: UserWarning: To copy construct from a tensor, it is recommended to use sourceTensor.clone().detach() or sourceTensor.clone().detach().requires_grad_(True), rather than torch.tensor(sourceTensor).\n",
            "  tr_embedding.append(torch.tensor(class_embedding[i]))\n"
          ]
        }
      ]
    },
    {
      "cell_type": "code",
      "source": [
        "# Putting in test embedding in torch tensor form\n",
        "\n",
        "te_emb = torch.tensor(test_emb[dataset_cora.test_mask])"
      ],
      "metadata": {
        "colab": {
          "base_uri": "https://localhost:8080/"
        },
        "id": "G8UM2V9wbuo8",
        "outputId": "e5627744-a4d9-4274-b129-4128343e81b8"
      },
      "execution_count": 23,
      "outputs": [
        {
          "output_type": "stream",
          "name": "stderr",
          "text": [
            "<ipython-input-23-45cf4212a5af>:3: UserWarning: To copy construct from a tensor, it is recommended to use sourceTensor.clone().detach() or sourceTensor.clone().detach().requires_grad_(True), rather than torch.tensor(sourceTensor).\n",
            "  te_emb = torch.tensor(test_emb[dataset_cora.test_mask])\n"
          ]
        }
      ]
    },
    {
      "cell_type": "code",
      "source": [
        "# https://github.com/LincLabUCCS/Open-set-text-classification-using-neural-networks\n",
        "# https://github.com/vinodinimv/Openset\n",
        "\n",
        "import scipy.spatial.distance as ssd\n",
        "\n",
        "def normalize(vector):\n",
        "    norm = np.linalg.norm(vector)\n",
        "    return vector/norm if norm != 0 else vector\n",
        "\n",
        "\n",
        "def md(u, v, avs):\n",
        "    return ssd.mahalanobis(u, v, VI=np.linalg.inv(np.cov(avs, rowvar=False)))\n",
        "\n",
        "\n",
        "def distance_metric(a, b, dist_type, cov_inp, normalized=True):\n",
        "    if normalized is True:\n",
        "        a = normalize(a)\n",
        "        b = normalize(b)\n",
        "    if dist_type == \"md\":\n",
        "        return md(a, b, cov_inp)\n",
        "    else:\n",
        "        print (\"Error, Invalid distance metric.\")\n",
        "        return None"
      ],
      "metadata": {
        "id": "j2JovtOWb9D0"
      },
      "execution_count": 24,
      "outputs": []
    },
    {
      "cell_type": "code",
      "source": [
        "import numpy as np\n",
        "\n",
        "seen_class_AV_MAV = {}\n",
        "seen_closest_AV = {}\n",
        "seen_distances_AV_kClosest = {}\n",
        "\n",
        "#k = 10\n",
        "\n",
        "metric_type = \"md\"\n",
        "normalized = True\n",
        "for c in seen_labels:\n",
        "    class_activations = np.array(tr_embedding[c])\n",
        "    mean_AV = np.mean(class_activations, axis=0)\n",
        "\n",
        "    distances_AV_MAV = []\n",
        "    for AV in class_activations:\n",
        "        temp_dist = distance_metric(AV, mean_AV, metric_type, class_activations, normalized=normalized) #MD\n",
        "        distances_AV_MAV.append(temp_dist)\n",
        "    seen_class_AV_MAV[c] = distances_AV_MAV\n",
        "\n",
        "    closest_AVs = []\n",
        "    for i in range(k):\n",
        "        closest_AVs.append(class_activations[distances_AV_MAV.index(sorted(distances_AV_MAV)[i])])\n",
        "    seen_closest_AV[c] = np.array(closest_AVs)\n",
        "\n",
        "    distances_AV_kClosest = []\n",
        "    for AV in class_activations:\n",
        "        k_dist_temp = []\n",
        "        for cAV in closest_AVs:\n",
        "            temp_dist = distance_metric(AV, cAV, metric_type, class_activations, normalized=normalized)\n",
        "            k_dist_temp.append(temp_dist)\n",
        "        distances_AV_kClosest.append(np.mean(k_dist_temp))\n",
        "    seen_distances_AV_kClosest[c] = np.array(distances_AV_kClosest)"
      ],
      "metadata": {
        "id": "DCdwpoM9fD-0"
      },
      "execution_count": 25,
      "outputs": []
    },
    {
      "cell_type": "code",
      "source": [
        "#!pip install libmr"
      ],
      "metadata": {
        "colab": {
          "base_uri": "https://localhost:8080/"
        },
        "id": "H8YVv8U8fG1r",
        "outputId": "5a26a761-fcfb-45ed-f83a-24d4180c0e16"
      },
      "execution_count": 26,
      "outputs": [
        {
          "output_type": "stream",
          "name": "stdout",
          "text": [
            "Collecting libmr\n",
            "  Downloading libmr-0.1.9.zip (39 kB)\n",
            "  Preparing metadata (setup.py) ... \u001b[?25l\u001b[?25hdone\n",
            "Requirement already satisfied: cython in /usr/local/lib/python3.10/dist-packages (from libmr) (3.0.4)\n",
            "Requirement already satisfied: numpy in /usr/local/lib/python3.10/dist-packages (from libmr) (1.23.5)\n",
            "Building wheels for collected packages: libmr\n",
            "  Building wheel for libmr (setup.py) ... \u001b[?25l\u001b[?25hdone\n",
            "  Created wheel for libmr: filename=libmr-0.1.9-cp310-cp310-linux_x86_64.whl size=549043 sha256=cf17e32059fa296ff830215429d5ac28a2e0c55b2930d0fe01afab120364f7b9\n",
            "  Stored in directory: /root/.cache/pip/wheels/8a/e0/45/ec5f4f802b034150d6f5735922408cc0278bf85582b2a1a954\n",
            "Successfully built libmr\n",
            "Installing collected packages: libmr\n",
            "Successfully installed libmr-0.1.9\n"
          ]
        }
      ]
    },
    {
      "cell_type": "code",
      "source": [],
      "metadata": {
        "id": "FP14rQ12hyoX"
      },
      "execution_count": null,
      "outputs": []
    },
    {
      "cell_type": "code",
      "source": [
        "import libmr\n",
        "import matplotlib.pyplot as plt\n",
        "import pickle\n",
        "\n",
        "tail_size = 90\n",
        "\n",
        "\n",
        "for c in range(len(seen_labels)):\n",
        "    mr = libmr.MR()\n",
        "    distance = seen_distances_AV_kClosest[c] #np.array(distances[c], dtype=np.double)\n",
        "    mr.fit_high(distance, tail_size)\n",
        "    plt.scatter(np.array(distance), 1-mr.w_score_vector(distance))\n",
        "    pickle.dump(mr.as_binary(), open('/content/drive/MyDrive/Applied____AI/'+str(c)+\".npy\", \"wb\"))\n",
        "\n",
        "plt.legend()\n",
        "plt.show()\n",
        "print(\"Done generating Mahalanobis Model, tailsize: \"+str(tail_size))"
      ],
      "metadata": {
        "colab": {
          "base_uri": "https://localhost:8080/",
          "height": 485
        },
        "id": "TlLWRVpHfIjE",
        "outputId": "7e3e2bb2-8ea1-45b2-fdd3-4f262eda1224"
      },
      "execution_count": 30,
      "outputs": [
        {
          "output_type": "stream",
          "name": "stderr",
          "text": [
            "WARNING:matplotlib.legend:No artists with labels found to put in legend.  Note that artists whose label start with an underscore are ignored when legend() is called with no argument.\n"
          ]
        },
        {
          "output_type": "display_data",
          "data": {
            "text/plain": [
              "<Figure size 640x480 with 1 Axes>"
            ],
            "image/png": "[encoded data removed]"
          },
          "metadata": {}
        },
        {
          "output_type": "stream",
          "name": "stdout",
          "text": [
            "Done generating Mahalanobis Model, tailsize: 90\n"
          ]
        }
      ]
    },
    {
      "cell_type": "code",
      "source": [
        "import tqdm\n",
        "\n",
        "metric_type = \"md\" #\n",
        "normalized = True\n",
        "threshold = 0.8\n",
        "\n",
        "md_pred = []\n",
        "max_csps = []\n",
        "max_osps = []\n",
        "os_probs = []\n",
        "weibull_models = {}\n",
        "trained_class_avs = {}\n",
        "closest_avs = {}\n",
        "\n",
        "for tc in seen_labels:\n",
        "    weibull_models[tc] = libmr.load_from_binary(pickle.load(open('/content/drive/MyDrive/Applied____AI/'+str(tc)+\".npy\", \"rb\")))\n",
        "    trained_class_avs[tc] = tr_embedding[tc]\n",
        "    closest_avs[tc] = seen_closest_AV[tc]\n",
        "\n",
        "\n",
        "#mr = libmr.MR()\n",
        "\n",
        "\n",
        "\n",
        "for av in test_emb[dataset_cora.test_mask]:\n",
        "    d = {}\n",
        "    p = {}\n",
        "    for tc in seen_labels:\n",
        "        k_dist_temp = []\n",
        "        for e in closest_avs[tc]:\n",
        "            cov_inp = trained_class_avs[tc]\n",
        "            temp_dist = distance_metric(av, e, metric_type, cov_inp, normalized=normalized)\n",
        "            k_dist_temp.append(temp_dist)\n",
        "        d[tc] = np.mean(k_dist_temp)\n",
        "        p[tc] = 1-weibull_models[tc].w_score_vector(np.array([d[tc]], dtype=\"double\"))\n",
        "    av_os_prob = list(p.values())\n",
        "    total_csp = np.sum(av_os_prob, axis=0)\n",
        "    osp = 1-total_csp\n",
        "    max_csp = p[max(p, key=p.get)][0]\n",
        "    if float(max_csp) < float(osp) or float(max_csp) < threshold:\n",
        "        md_pred.append(-1)\n",
        "    else:\n",
        "        md_pred.append(max(p, key=p.get))\n",
        "print (\"Done.\")"
      ],
      "metadata": {
        "colab": {
          "base_uri": "https://localhost:8080/"
        },
        "id": "qtBBYoywfTts",
        "outputId": "ff474d8a-48b1-4e87-86e5-0999a68988fa"
      },
      "execution_count": 31,
      "outputs": [
        {
          "output_type": "stream",
          "name": "stdout",
          "text": [
            "Done.\n"
          ]
        }
      ]
    },
    {
      "cell_type": "code",
      "source": [
        "true = dataset_cora.y_n[dataset_cora.test_mask]\n",
        "pred = torch.tensor(md_pred)"
      ],
      "metadata": {
        "id": "viozGnBUfXTs"
      },
      "execution_count": 32,
      "outputs": []
    },
    {
      "cell_type": "code",
      "source": [
        "correct_predictions = (pred == true).sum().item()\n",
        "total_predictions = len(true)\n",
        "accuracy = correct_predictions / total_predictions\n",
        "\n",
        "print(f\"Overall Accuracy: {accuracy * 100:.2f}%\")"
      ],
      "metadata": {
        "colab": {
          "base_uri": "https://localhost:8080/"
        },
        "id": "kDqt9jVpftdq",
        "outputId": "d41d3021-326a-4cbb-d1d6-c528bd786e93"
      },
      "execution_count": 33,
      "outputs": [
        {
          "output_type": "stream",
          "name": "stdout",
          "text": [
            "Overall Accuracy: 75.12%\n"
          ]
        }
      ]
    },
    {
      "cell_type": "code",
      "source": [
        "un_node = []\n",
        "k_node = []\n",
        "\n",
        "for i in testing_nodes_idx:\n",
        "    if i in unseen_nodes:\n",
        "      un_node.append(True)\n",
        "    else:\n",
        "      un_node.append(False)\n",
        "\n",
        "    if i in add_in_test:\n",
        "      k_node.append(True)\n",
        "    else:\n",
        "      k_node.append(False)"
      ],
      "metadata": {
        "id": "cBmy-2_Yf5Le"
      },
      "execution_count": 34,
      "outputs": []
    },
    {
      "cell_type": "code",
      "source": [
        "gt = dataset_cora.y_n[dataset_cora.test_mask]\n",
        "print(\"Total Unknown Nodes : \", len(gt[un_node]))\n",
        "print(\"Total Known Nodes : \", len(gt[k_node]))"
      ],
      "metadata": {
        "colab": {
          "base_uri": "https://localhost:8080/"
        },
        "id": "aNYT-iWKf-tX",
        "outputId": "b58a72e9-a328-4bf5-d606-c3d82d84909a"
      },
      "execution_count": 35,
      "outputs": [
        {
          "output_type": "stream",
          "name": "stdout",
          "text": [
            "Total Unknown Nodes :  180\n",
            "Total Known Nodes :  254\n"
          ]
        }
      ]
    },
    {
      "cell_type": "code",
      "source": [
        "pd_un = pred[un_node]\n",
        "print(\"Predictions Unknown: \", len(pd_un))"
      ],
      "metadata": {
        "colab": {
          "base_uri": "https://localhost:8080/"
        },
        "id": "fr83zOzVgD1k",
        "outputId": "40b80eaa-7320-4af2-85a5-ca492a8956c5"
      },
      "execution_count": 36,
      "outputs": [
        {
          "output_type": "stream",
          "name": "stdout",
          "text": [
            "Predictions Unknown:  180\n"
          ]
        }
      ]
    },
    {
      "cell_type": "code",
      "source": [
        "correct_predictions = (gt[un_node] == pd_un).sum().item()\n",
        "print(correct_predictions)\n",
        "total_predictions = len(gt[un_node])\n",
        "accuracy = correct_predictions / total_predictions\n",
        "\n",
        "print(f\"Accuracy Unknown : {accuracy * 100:.2f}%\")"
      ],
      "metadata": {
        "colab": {
          "base_uri": "https://localhost:8080/"
        },
        "id": "c8MiwHvfgGj-",
        "outputId": "7537c1fb-e6b9-48d6-cd8c-a9ba32c20f42"
      },
      "execution_count": 37,
      "outputs": [
        {
          "output_type": "stream",
          "name": "stdout",
          "text": [
            "132\n",
            "Accuracy Unknown : 73.33%\n"
          ]
        }
      ]
    },
    {
      "cell_type": "code",
      "source": [
        "pd_k = pred[k_node]\n",
        "print(\"Predictions Known: \", len(pd_k))"
      ],
      "metadata": {
        "colab": {
          "base_uri": "https://localhost:8080/"
        },
        "id": "joYiY0fzgI6F",
        "outputId": "f9a40ad5-c650-422b-d2d2-3e2377a12594"
      },
      "execution_count": 38,
      "outputs": [
        {
          "output_type": "stream",
          "name": "stdout",
          "text": [
            "Predictions Known:  254\n"
          ]
        }
      ]
    },
    {
      "cell_type": "code",
      "source": [
        "correct_predictions = (gt[k_node] == pd_k).sum().item()\n",
        "print(correct_predictions)\n",
        "total_predictions = len(gt[k_node])\n",
        "accuracy = correct_predictions / total_predictions\n",
        "\n",
        "print(f\"Accuracy Known : {accuracy * 100:.2f}%\")"
      ],
      "metadata": {
        "colab": {
          "base_uri": "https://localhost:8080/"
        },
        "id": "Rui4TKNDgLtF",
        "outputId": "5360b85d-09df-4b98-c7d2-5bf153897494"
      },
      "execution_count": 39,
      "outputs": [
        {
          "output_type": "stream",
          "name": "stdout",
          "text": [
            "194\n",
            "Accuracy Known : 76.38%\n"
          ]
        }
      ]
    },
    {
      "cell_type": "code",
      "source": [],
      "metadata": {
        "id": "G9q_MdUziOcL"
      },
      "execution_count": null,
      "outputs": []
    }
  ],
  "metadata": {
    "colab": {
      "provenance": []
    },
    "kernelspec": {
      "display_name": "Python 3",
      "name": "python3"
    },
    "language_info": {
      "name": "python"
    }
  },
  "nbformat": 4,
  "nbformat_minor": 0
}